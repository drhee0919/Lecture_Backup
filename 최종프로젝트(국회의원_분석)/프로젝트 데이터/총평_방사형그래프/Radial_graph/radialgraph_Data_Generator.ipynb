{
 "cells": [
  {
   "cell_type": "code",
   "execution_count": 1,
   "metadata": {},
   "outputs": [],
   "source": [
    "# 로딩 경로 변수설정 \n",
    "import pandas as pd\n",
    "import numpy as np \n",
    "path = 'C:/python_DA/Final_Project/data/crawling_result/'\n",
    "name = ('01_kangbyungwon',\n",
    "        '02_goyongjin',\n",
    "        '03_geumtaesup',\n",
    "        '04_kidongmin',\n",
    "        '05_kimbyunggi',\n",
    "        '06_kimsundong',\n",
    "        '07_kimsungsik',\n",
    "        '08_kimsungtae',\n",
    "        '09_kimsunghwan',\n",
    "        '10_kimyoungjoo',\n",
    "        '11_kimyoungho',\n",
    "        '12_kimyongtae',\n",
    "        '13_nakyungwon',\n",
    "        '14_naminsoon',\n",
    "        '15_nowoongrae',\n",
    "        '16_minbyungdoo',\n",
    "        '17_parksungjoong',\n",
    "        '18_parkyoungsun',\n",
    "        '19_parkyongjin',\n",
    "        '20_parkinsook',\n",
    "        '21_parkjoomin',\n",
    "        '22_parkhonggeun',\n",
    "        '23_seoyounggyo',\n",
    "        '24_sonhyewon',\n",
    "        '25_sinkyungmin',\n",
    "        '26_simjaekwon',\n",
    "        '27_annkyubaek',\n",
    "        '28_ohsinhwan',\n",
    "        '29_woosangho',\n",
    "        '30_woowonsik',\n",
    "        '31_yooseunghee',\n",
    "        '32_leeeunjae',\n",
    "        '33_leeinyoung',\n",
    "        '34_leejonggoo',\n",
    "        '35_leehyehoon',\n",
    "        '36_leehoon',\n",
    "        '37_innjaeguen',\n",
    "        '38_jeonhyunhee',\n",
    "        '39_jeonhyesook',\n",
    "        '40_jungsaekyun',\n",
    "        '41_jungyangsuk',\n",
    "        '42_jisangwook',\n",
    "        '43_jinsunmee',\n",
    "        '44_jinyoung',\n",
    "        '45_choijaesung',\n",
    "        '46_choomeeae',\n",
    "        '47_hanjungae',\n",
    "        '48_hongeikpyo',\n",
    "        '49_hwanghee')\n",
    "        \n",
    "extention = '.csv'"
   ]
  },
  {
   "cell_type": "code",
   "execution_count": 2,
   "metadata": {},
   "outputs": [],
   "source": [
    "# 저장 경로 변수 설정 \n",
    "save_path = './data/'\n",
    "save_extension='_PN.csv'"
   ]
  },
  {
   "cell_type": "code",
   "execution_count": 3,
   "metadata": {},
   "outputs": [
    {
     "name": "stderr",
     "output_type": "stream",
     "text": [
      "C:\\Users\\student\\Anaconda3\\envs\\cpu_env\\lib\\site-packages\\ipykernel_launcher.py:7: SettingWithCopyWarning: \n",
      "A value is trying to be set on a copy of a slice from a DataFrame.\n",
      "Try using .loc[row_indexer,col_indexer] = value instead\n",
      "\n",
      "See the caveats in the documentation: http://pandas.pydata.org/pandas-docs/stable/user_guide/indexing.html#returning-a-view-versus-a-copy\n",
      "  import sys\n"
     ]
    }
   ],
   "source": [
    "for n in range(49):\n",
    "    \n",
    "    loaddir=path+name[n]+extention\n",
    "    raw_data = pd.read_csv(loaddir,\n",
    "                            encoding='utf-8')\n",
    "    df = raw_data[['결과', '날짜']]\n",
    "    df['날짜'] = pd.to_datetime(df['날짜'])\n",
    "    \n",
    "    #월별 카운팅을 위한 \n",
    "    df.set_index('날짜', inplace=True)\n",
    "    \n",
    "    \n",
    "    #컬럼 내용 선언  \n",
    "    pos = df['결과'].value_counts()[\"['1']\"]\n",
    "    neg = df['결과'].value_counts()[\"['0']\"]\n",
    "    p_ratio = (pos / (pos+neg))*100 \n",
    "    \n",
    "    \n",
    "    #데이터 프레임 생성 \n",
    "    group_names = ['긍정','부정','긍정비율'] #이름\n",
    "    group_sizes = [[pos, neg, p_ratio]] #내용\n",
    "    \n",
    "    result = pd.DataFrame(data=group_sizes,\n",
    "                          columns=group_names)                   \n",
    "                          \n",
    "    result.to_csv(save_path+name[n]+save_extension, mode='w')\n",
    "\n",
    "    \n",
    "    "
   ]
  },
  {
   "cell_type": "code",
   "execution_count": 4,
   "metadata": {},
   "outputs": [
    {
     "name": "stderr",
     "output_type": "stream",
     "text": [
      "C:\\Users\\student\\Anaconda3\\envs\\cpu_env\\lib\\site-packages\\ipykernel_launcher.py:5: SettingWithCopyWarning: \n",
      "A value is trying to be set on a copy of a slice from a DataFrame.\n",
      "Try using .loc[row_indexer,col_indexer] = value instead\n",
      "\n",
      "See the caveats in the documentation: http://pandas.pydata.org/pandas-docs/stable/user_guide/indexing.html#returning-a-view-versus-a-copy\n",
      "  \"\"\"\n"
     ]
    }
   ],
   "source": [
    "loaddir=path+name[0]+extention\n",
    "raw_data = pd.read_csv(loaddir,\n",
    "                        encoding='utf-8')\n",
    "df = raw_data[['결과', '날짜']]\n",
    "df['날짜'] = pd.to_datetime(df['날짜'])\n",
    "\n",
    "#월별 카운팅을 위한 \n",
    "df.set_index('날짜', inplace=True)\n",
    "\n",
    "\n",
    "#컬럼 내용 선언  \n",
    "pos = df['결과'].value_counts()[\"['1']\"]\n",
    "neg = df['결과'].value_counts()[\"['0']\"]\n",
    "p_ratio = (pos / (pos+neg))*100 \n",
    "\n",
    "\n",
    "#데이터 프레임 생성 \n",
    "group_names = ['긍정','부정','긍정비율'] #이름\n",
    "group_sizes = [[pos, neg, p_ratio]] #내용\n",
    "\n",
    "result = pd.DataFrame(data=group_sizes,\n",
    "                      columns=group_names)                   \n",
    "                \n",
    "result.to_csv(save_path+name[n]+save_extension, mode='w',  index = False)"
   ]
  }
 ],
 "metadata": {
  "kernelspec": {
   "display_name": "[CPU_ENV]",
   "language": "python",
   "name": "cpu_env"
  },
  "language_info": {
   "codemirror_mode": {
    "name": "ipython",
    "version": 3
   },
   "file_extension": ".py",
   "mimetype": "text/x-python",
   "name": "python",
   "nbconvert_exporter": "python",
   "pygments_lexer": "ipython3",
   "version": "3.6.9"
  }
 },
 "nbformat": 4,
 "nbformat_minor": 4
}
