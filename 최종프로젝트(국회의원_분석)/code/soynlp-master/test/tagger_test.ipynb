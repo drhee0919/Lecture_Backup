{
 "cells": [
  {
   "cell_type": "code",
   "execution_count": 1,
   "metadata": {
    "collapsed": true
   },
   "outputs": [],
   "source": [
    "import sys\n",
    "sys.path.append('../')\n",
    "\n",
    "\n",
    "from soynlp.pos._dictionary import Dictionary"
   ]
  },
  {
   "cell_type": "code",
   "execution_count": 2,
   "metadata": {
    "collapsed": true
   },
   "outputs": [],
   "source": [
    "pos_dict = {\n",
    "            'Adverb': {'너무', '매우'}, \n",
    "            'Noun': {'너무너무너무', '아이오아이', '아이', '노래', '오', '이', '고양'},\n",
    "            'Josa': {'는', '의', '이다', '입니다', '이', '이는', '를'},\n",
    "            'Verb': {'하는', '하다', '하고'},\n",
    "            'Adjective': {'예쁜', '예쁘다'},\n",
    "            'Exclamation': {'우와'}\n",
    "          }\n",
    "\n",
    "dictionary = Dictionary(pos_dict)"
   ]
  },
  {
   "cell_type": "code",
   "execution_count": 3,
   "metadata": {},
   "outputs": [
    {
     "data": {
      "text/plain": [
       "{'Adjective': {'예쁘다', '예쁜'},\n",
       " 'Adverb': {'너무', '매우'},\n",
       " 'Exclamation': {'우와'},\n",
       " 'Josa': {'는', '를', '의', '이', '이는', '이다', '입니다'},\n",
       " 'Noun': {'고양', '너무너무너무', '노래', '아이', '아이오아이', '오', '이'},\n",
       " 'Verb': {'하고', '하는', '하다'}}"
      ]
     },
     "execution_count": 3,
     "metadata": {},
     "output_type": "execute_result"
    }
   ],
   "source": [
    "dictionary.pos_dict"
   ]
  },
  {
   "cell_type": "code",
   "execution_count": 4,
   "metadata": {},
   "outputs": [
    {
     "data": {
      "text/plain": [
       "['Noun']"
      ]
     },
     "execution_count": 4,
     "metadata": {},
     "output_type": "execute_result"
    }
   ],
   "source": [
    "dictionary.get_pos('아이오아이')"
   ]
  },
  {
   "cell_type": "code",
   "execution_count": 5,
   "metadata": {},
   "outputs": [
    {
     "data": {
      "text/plain": [
       "['Noun', 'Josa']"
      ]
     },
     "execution_count": 5,
     "metadata": {},
     "output_type": "execute_result"
    }
   ],
   "source": [
    "dictionary.get_pos('이')"
   ]
  },
  {
   "cell_type": "code",
   "execution_count": 6,
   "metadata": {},
   "outputs": [
    {
     "data": {
      "text/plain": [
       "True"
      ]
     },
     "execution_count": 6,
     "metadata": {},
     "output_type": "execute_result"
    }
   ],
   "source": [
    "dictionary.word_is_tag('아이오아이', 'Noun')"
   ]
  },
  {
   "cell_type": "code",
   "execution_count": 7,
   "metadata": {},
   "outputs": [
    {
     "data": {
      "text/plain": [
       "6"
      ]
     },
     "execution_count": 7,
     "metadata": {},
     "output_type": "execute_result"
    }
   ],
   "source": [
    "dictionary.max_length"
   ]
  },
  {
   "cell_type": "code",
   "execution_count": 8,
   "metadata": {
    "collapsed": true
   },
   "outputs": [],
   "source": [
    "from soynlp.pos._template import EojeolTemplateMatcher\n",
    "\n",
    "generator = EojeolTemplateMatcher(dictionary)"
   ]
  },
  {
   "cell_type": "code",
   "execution_count": 9,
   "metadata": {},
   "outputs": [
    {
     "name": "stdout",
     "output_type": "stream",
     "text": [
      "[[LR(l='아이오아이', l_tag='Noun', r='', r_tag=None, b=0, m=5, e=5)],\n",
      " [LR(l='아이', l_tag='Noun', r='', r_tag=None, b=0, m=2, e=2),\n",
      "  LR(l='오', l_tag='Noun', r='', r_tag=None, b=2, m=3, e=3),\n",
      "  LR(l='아이', l_tag='Noun', r='', r_tag=None, b=3, m=5, e=5)]]\n"
     ]
    }
   ],
   "source": [
    "from pprint import pprint\n",
    "pprint(generator.generate('아이오아이'))"
   ]
  },
  {
   "cell_type": "code",
   "execution_count": 10,
   "metadata": {},
   "outputs": [
    {
     "name": "stdout",
     "output_type": "stream",
     "text": [
      "[[LR(l='아이오아이는', l_tag=None, r='', r_tag=None, b=0, m=6, e=6)],\n",
      " [LR(l='아이오아이', l_tag='Noun', r='는', r_tag='Josa', b=0, m=5, e=6)]]\n"
     ]
    }
   ],
   "source": [
    "pprint(generator.generate('아이오아이는'))"
   ]
  },
  {
   "cell_type": "code",
   "execution_count": 11,
   "metadata": {},
   "outputs": [
    {
     "name": "stdout",
     "output_type": "stream",
     "text": [
      "[[LR(l='너무너무너무', l_tag='Noun', r='', r_tag=None, b=0, m=6, e=6)],\n",
      " [LR(l='너무', l_tag='Adverb', r='', r_tag=None, b=0, m=2, e=2),\n",
      "  LR(l='너무', l_tag='Adverb', r='', r_tag=None, b=2, m=4, e=4),\n",
      "  LR(l='너무', l_tag='Adverb', r='', r_tag=None, b=4, m=6, e=6)]]\n"
     ]
    }
   ],
   "source": [
    "pprint(generator.generate('너무너무너무'))"
   ]
  },
  {
   "cell_type": "code",
   "execution_count": 12,
   "metadata": {
    "collapsed": true
   },
   "outputs": [],
   "source": [
    "from _evaluator import SimpleEojeolEvaluator"
   ]
  },
  {
   "cell_type": "code",
   "execution_count": 13,
   "metadata": {},
   "outputs": [
    {
     "name": "stdout",
     "output_type": "stream",
     "text": [
      "[[LR(l='아이오아이는', l_tag=None, r='', r_tag=None, b=0, m=6, e=6)],\n",
      " [LR(l='아이오아이', l_tag='Noun', r='는', r_tag='Josa', b=0, m=5, e=6)]]\n"
     ]
    }
   ],
   "source": [
    "evaluator = SimpleEojeolEvaluator()\n",
    "\n",
    "candidates = generator.generate('아이오아이는')\n",
    "pprint(candidates)"
   ]
  },
  {
   "cell_type": "code",
   "execution_count": 14,
   "metadata": {},
   "outputs": [
    {
     "data": {
      "text/plain": [
       "[LR(l='아이오아이', l_tag='Noun', r='는', r_tag='Josa', b=0, m=5, e=6)]"
      ]
     },
     "execution_count": 14,
     "metadata": {},
     "output_type": "execute_result"
    }
   ],
   "source": [
    "evaluator.select_best(candidates)"
   ]
  },
  {
   "cell_type": "code",
   "execution_count": 15,
   "metadata": {},
   "outputs": [
    {
     "data": {
      "text/plain": [
       "[('너무너무너무', 'Noun'),\n",
       " ('는', 'Josa'),\n",
       " ('아이오아이', 'Noun'),\n",
       " ('의', 'Josa'),\n",
       " ('노래', 'Noun'),\n",
       " ('입니다', 'Josa')]"
      ]
     },
     "execution_count": 15,
     "metadata": {},
     "output_type": "execute_result"
    }
   ],
   "source": [
    "from soynlp.pos._tagger import SimpleTagger\n",
    "\n",
    "sent = '너무너무너무는 아이오아이의 노래입니다'\n",
    "\n",
    "tagger = SimpleTagger(generator, evaluator)\n",
    "tagger.tag(sent)"
   ]
  },
  {
   "cell_type": "code",
   "execution_count": 16,
   "metadata": {},
   "outputs": [
    {
     "data": {
      "text/plain": [
       "[[('너무너무너무', 'Noun'), ('는', 'Josa')],\n",
       " [('아이오아이', 'Noun'), ('의', 'Josa')],\n",
       " [('노래', 'Noun'), ('입니다', 'Josa')]]"
      ]
     },
     "execution_count": 16,
     "metadata": {},
     "output_type": "execute_result"
    }
   ],
   "source": [
    "tagger.tag(sent, flatten=False)"
   ]
  },
  {
   "cell_type": "code",
   "execution_count": 17,
   "metadata": {
    "collapsed": true
   },
   "outputs": [],
   "source": [
    "from soynlp.pos._template import LRTemplateMatcher\n",
    "\n",
    "lr_generator = LRTemplateMatcher(dictionary)"
   ]
  },
  {
   "cell_type": "code",
   "execution_count": 18,
   "metadata": {},
   "outputs": [
    {
     "name": "stdout",
     "output_type": "stream",
     "text": [
      "[LR(l='아이오아이', l_tag='Noun', r='는', r_tag='Josa', b=0, m=5, e=6),\n",
      " LR(l='아이오아이', l_tag='Noun', r='', r_tag=None, b=0, m=5, e=5)]\n"
     ]
    }
   ],
   "source": [
    "pprint(lr_generator.generate('아이오아이는'))"
   ]
  },
  {
   "cell_type": "code",
   "execution_count": 19,
   "metadata": {},
   "outputs": [
    {
     "name": "stdout",
     "output_type": "stream",
     "text": [
      "[LR(l='너무너무너무', l_tag='Noun', r='는', r_tag='Josa', b=0, m=6, e=7),\n",
      " LR(l='너무너무너무', l_tag='Noun', r='', r_tag=None, b=0, m=6, e=6),\n",
      " LR(l='너무', l_tag='Adverb', r='', r_tag=None, b=0, m=2, e=2),\n",
      " LR(l='너무', l_tag='Adverb', r='', r_tag=None, b=2, m=4, e=4),\n",
      " LR(l='너무', l_tag='Adverb', r='', r_tag=None, b=4, m=6, e=6),\n",
      " LR(l='아이오아이', l_tag='Noun', r='의', r_tag='Josa', b=7, m=12, e=13),\n",
      " LR(l='아이오아이', l_tag='Noun', r='', r_tag=None, b=7, m=12, e=12),\n",
      " LR(l='노래', l_tag='Noun', r='입니다', r_tag='Josa', b=13, m=15, e=18),\n",
      " LR(l='노래', l_tag='Noun', r='', r_tag=None, b=13, m=15, e=15)]\n"
     ]
    }
   ],
   "source": [
    "pprint(lr_generator.generate(sent.replace(' ', '')))"
   ]
  },
  {
   "cell_type": "code",
   "execution_count": 20,
   "metadata": {
    "collapsed": true
   },
   "outputs": [],
   "source": [
    "from soynlp.pos._evaluator import LREvaluator\n",
    "\n",
    "lr_evaluator = LREvaluator()"
   ]
  },
  {
   "cell_type": "code",
   "execution_count": 21,
   "metadata": {},
   "outputs": [
    {
     "name": "stdout",
     "output_type": "stream",
     "text": [
      "[LR(l='너무너무너무', l_tag='Noun', r='는', r_tag='Josa', b=0, m=6, e=7),\n",
      " LR(l='너무너무너무', l_tag='Noun', r='', r_tag=None, b=0, m=6, e=6),\n",
      " LR(l='너무', l_tag='Adverb', r='', r_tag=None, b=0, m=2, e=2),\n",
      " LR(l='너무', l_tag='Adverb', r='', r_tag=None, b=2, m=4, e=4),\n",
      " LR(l='너무', l_tag='Adverb', r='', r_tag=None, b=4, m=6, e=6),\n",
      " LR(l='아이오아이', l_tag='Noun', r='의', r_tag='Josa', b=7, m=12, e=13),\n",
      " LR(l='아이오아이', l_tag='Noun', r='', r_tag=None, b=7, m=12, e=12),\n",
      " LR(l='노래', l_tag='Noun', r='입니다', r_tag='Josa', b=13, m=15, e=18),\n",
      " LR(l='노래', l_tag='Noun', r='', r_tag=None, b=13, m=15, e=15)]\n"
     ]
    }
   ],
   "source": [
    "candidates = lr_generator.generate(sent.replace(' ', ''))\n",
    "pprint(candidates)"
   ]
  },
  {
   "cell_type": "code",
   "execution_count": 22,
   "metadata": {},
   "outputs": [
    {
     "name": "stdout",
     "output_type": "stream",
     "text": [
      "[LR(l='너무너무너무', l_tag='Noun', r='는', r_tag='Josa', b=0, m=6, e=7),\n",
      " LR(l='아이오아이', l_tag='Noun', r='의', r_tag='Josa', b=7, m=12, e=13),\n",
      " LR(l='노래', l_tag='Noun', r='입니다', r_tag='Josa', b=13, m=15, e=18)]\n"
     ]
    }
   ],
   "source": [
    "pprint(lr_evaluator.select_best(candidates))"
   ]
  },
  {
   "cell_type": "code",
   "execution_count": 23,
   "metadata": {},
   "outputs": [
    {
     "data": {
      "text/plain": [
       "[('너무너무너무', 'Noun'),\n",
       " ('는', 'Josa'),\n",
       " ('우리', None),\n",
       " ('아이오아이', 'Noun'),\n",
       " ('의', 'Josa'),\n",
       " ('노래', 'Noun'),\n",
       " ('입니다', 'Josa'),\n",
       " ('!', None)]"
      ]
     },
     "execution_count": 23,
     "metadata": {},
     "output_type": "execute_result"
    }
   ],
   "source": [
    "from _tagger import UnknowLRPostprocessor\n",
    "\n",
    "unknown_postprocessor = UnknowLRPostprocessor()\n",
    "lr_tagger = SimpleTagger(lr_generator, lr_evaluator, unknown_postprocessor)\n",
    "lr_tagger.tag('너무너무너무는우리아이오아이의노래입니다!', )"
   ]
  }
 ],
 "metadata": {
  "kernelspec": {
   "display_name": "Python 3",
   "language": "python",
   "name": "python3"
  },
  "language_info": {
   "codemirror_mode": {
    "name": "ipython",
    "version": 3
   },
   "file_extension": ".py",
   "mimetype": "text/x-python",
   "name": "python",
   "nbconvert_exporter": "python",
   "pygments_lexer": "ipython3",
   "version": "3.6.2"
  }
 },
 "nbformat": 4,
 "nbformat_minor": 2
}
